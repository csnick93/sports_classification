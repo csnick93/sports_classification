{
  "nbformat": 4,
  "nbformat_minor": 0,
  "metadata": {
    "colab": {
      "name": "SportsClassification.ipynb",
      "provenance": [],
      "private_outputs": true,
      "collapsed_sections": [],
      "authorship_tag": "ABX9TyN5ZqaVAMJd2s5bBIVLYcWf",
      "include_colab_link": true
    },
    "kernelspec": {
      "name": "python3",
      "display_name": "Python 3"
    },
    "accelerator": "GPU"
  },
  "cells": [
    {
      "cell_type": "markdown",
      "metadata": {
        "id": "view-in-github",
        "colab_type": "text"
      },
      "source": [
        "<a href=\"https://colab.research.google.com/github/csnick93/sports_classification/blob/main/SportsClassification.ipynb\" target=\"_parent\"><img src=\"https://colab.research.google.com/assets/colab-badge.svg\" alt=\"Open In Colab\"/></a>"
      ]
    },
    {
      "cell_type": "code",
      "metadata": {
        "id": "uTydlW6uVNnx"
      },
      "source": [
        "from google.colab import drive\n",
        "drive.mount('/content/drive')"
      ],
      "execution_count": null,
      "outputs": []
    },
    {
      "cell_type": "code",
      "metadata": {
        "id": "Px3VyHKlNQxd"
      },
      "source": [
        "!wget https://github.com/git-lfs/git-lfs/releases/download/v2.12.0/git-lfs-linux-amd64-v2.12.0.tar.gz"
      ],
      "execution_count": null,
      "outputs": []
    },
    {
      "cell_type": "code",
      "metadata": {
        "id": "sJUQaEKqNqFB"
      },
      "source": [
        "!tar -xvf  git-lfs-linux-amd64-v2.12.0.tar.gz\n"
      ],
      "execution_count": null,
      "outputs": []
    },
    {
      "cell_type": "code",
      "metadata": {
        "id": "NtmQ7Q5CNtjZ"
      },
      "source": [
        "!./install.sh"
      ],
      "execution_count": null,
      "outputs": []
    },
    {
      "cell_type": "code",
      "metadata": {
        "id": "4b-kHA30NyHn"
      },
      "source": [
        "!git clone https://github.com/csnick93/sports_classification.git"
      ],
      "execution_count": null,
      "outputs": []
    },
    {
      "cell_type": "code",
      "metadata": {
        "id": "i4GCWRb3f8Ki"
      },
      "source": [
        "!pip install mlflow"
      ],
      "execution_count": null,
      "outputs": []
    },
    {
      "cell_type": "code",
      "metadata": {
        "id": "3BjuegJqrLuC"
      },
      "source": [
        "import mlflow\n",
        "from mlflow import log_metric, log_param, log_artifacts,log_artifact"
      ],
      "execution_count": null,
      "outputs": []
    },
    {
      "cell_type": "code",
      "metadata": {
        "id": "HehPz9hZrNn4"
      },
      "source": [
        "mlflow.set_tracking_uri('sports_classification/mlruns')"
      ],
      "execution_count": null,
      "outputs": []
    },
    {
      "cell_type": "code",
      "metadata": {
        "id": "k-948PaurosN"
      },
      "source": [
        "def get_max_run_id(experiment_id):\n",
        "    runs = mlflow.search_runs(experiment_ids=[experiment_id]) \n",
        "    run_id = len(runs)\n",
        "    return run_id\n",
        "\n",
        "def connect_to_experiment(experiment_name):\n",
        "    experiment = mlflow.get_experiment_by_name(experiment_name)\n",
        "    if experiment is None:\n",
        "        experiment_id = mlflow.create_experiment(experiment_name)\n",
        "        run_id = 1 \n",
        "    else:\n",
        "        experiment_id = experiment.experiment_id \n",
        "        run_id = get_max_run_id(experiment_id) \n",
        "    return experiment_id, run_id"
      ],
      "execution_count": null,
      "outputs": []
    },
    {
      "cell_type": "code",
      "metadata": {
        "id": "Q2J5lENEJltM"
      },
      "source": [
        "from fastai.vision.all import *\n",
        "from fastai.data.all import *\n",
        "import pandas as pd"
      ],
      "execution_count": null,
      "outputs": []
    },
    {
      "cell_type": "code",
      "metadata": {
        "id": "0oExjfVpWvIi"
      },
      "source": [
        "#config\n",
        "class Config:\n",
        "  def __init__(self,\n",
        "              augmentations = False,\n",
        "              img_size = 224,  \n",
        "              num_epochs = 5,\n",
        "              model_arch = resnet18):\n",
        "      self.augmentations = augmentations\n",
        "      self.img_size = img_size\n",
        "      self.num_epochs = num_epochs\n",
        "      self.model_arch = model_arch\n",
        "\n",
        "  def __str__(self):\n",
        "    return '%s_%i_%i_%s'%(str(self.augmentations), self.img_size, \n",
        "                          self.num_epochs, str(self.model_arch).split(' ')[1])\n",
        "  \n",
        "  def mlflow_config(self):\n",
        "    return list(self.__dict__.items())\n",
        "  \n",
        "config = Config(augmentations=False, img_size=224, \n",
        "                num_epochs=2, model_arch=resnet18)"
      ],
      "execution_count": null,
      "outputs": []
    },
    {
      "cell_type": "code",
      "metadata": {
        "id": "keeoyyGrLCQm"
      },
      "source": [
        "path = Path('sports_classification/data')\n",
        "train_val_folder = get_image_files(path/\"train\")\n",
        "test_folder = get_image_files(path/\"test\")\n",
        "train_val_data = pd.read_csv(path/'train_val_data.csv')"
      ],
      "execution_count": null,
      "outputs": []
    },
    {
      "cell_type": "code",
      "metadata": {
        "id": "W7mDwUCxLqoc"
      },
      "source": [
        "train_val_data.head()"
      ],
      "execution_count": null,
      "outputs": []
    },
    {
      "cell_type": "code",
      "metadata": {
        "id": "lkyb3dLtLr8E"
      },
      "source": [
        "data_block = DataBlock(blocks=(ImageBlock, CategoryBlock),\n",
        "                       splitter=ColSplitter(),\n",
        "                       get_x=ColReader(0, pref='sports_classification/data/'),\n",
        "                       get_y=ColReader(1),\n",
        "                       item_tfms=Resize(config.img_size),\n",
        "                       #batch_tfms=aug_transforms()\n",
        "                      )"
      ],
      "execution_count": null,
      "outputs": []
    },
    {
      "cell_type": "code",
      "metadata": {
        "id": "WEVufc3FPI-8"
      },
      "source": [
        "dls = data_block.dataloaders(train_val_data)"
      ],
      "execution_count": null,
      "outputs": []
    },
    {
      "cell_type": "code",
      "metadata": {
        "id": "__qCm_TBPLpE"
      },
      "source": [
        "dls.show_batch()"
      ],
      "execution_count": null,
      "outputs": []
    },
    {
      "cell_type": "code",
      "metadata": {
        "id": "hAUurXn_PcH0"
      },
      "source": [
        "learn = cnn_learner(dls, config.model_arch, metrics=error_rate, cbs=[CSVLogger()])"
      ],
      "execution_count": null,
      "outputs": []
    },
    {
      "cell_type": "code",
      "metadata": {
        "id": "MiA9FliNPgHN"
      },
      "source": [
        "learn.lr_find()"
      ],
      "execution_count": null,
      "outputs": []
    },
    {
      "cell_type": "code",
      "metadata": {
        "id": "xnDffUj3PqLl"
      },
      "source": [
        "learn.fine_tune(config.num_epochs, 0.01)"
      ],
      "execution_count": null,
      "outputs": []
    },
    {
      "cell_type": "code",
      "metadata": {
        "id": "9BqCLZruP4fs"
      },
      "source": [
        "learn.show_results()"
      ],
      "execution_count": null,
      "outputs": []
    },
    {
      "cell_type": "code",
      "metadata": {
        "id": "bPqndC0TSiBJ"
      },
      "source": [
        "interp = Interpretation.from_learner(learn)"
      ],
      "execution_count": null,
      "outputs": []
    },
    {
      "cell_type": "code",
      "metadata": {
        "id": "Le_FfDuOSqCF"
      },
      "source": [
        "interp.plot_top_losses(9, figsize=(15,10))\n"
      ],
      "execution_count": null,
      "outputs": []
    },
    {
      "cell_type": "code",
      "metadata": {
        "id": "0DXuILaESuY1"
      },
      "source": [
        "model_path = learn.save(str(config))"
      ],
      "execution_count": null,
      "outputs": []
    },
    {
      "cell_type": "code",
      "metadata": {
        "id": "d_oyBGbZs532"
      },
      "source": [
        "experiment_id, run_id = connect_to_experiment('sports_classification')\n",
        "mlflow.start_run(run_name='sports_classification_run', experiment_id=experiment_id)"
      ],
      "execution_count": null,
      "outputs": []
    },
    {
      "cell_type": "code",
      "metadata": {
        "id": "kvl4_k0ftHo4"
      },
      "source": [
        "for config_tuple in config.mlflow_config():\n",
        "  log_param(*config_tuple)"
      ],
      "execution_count": null,
      "outputs": []
    },
    {
      "cell_type": "code",
      "metadata": {
        "id": "M7hyWQSZth6t"
      },
      "source": [
        "results = [('final_val_loss', learn.final_record[0]), ('final_error_rate', learn.final_record[1])]\n",
        "for result_tuple in results:\n",
        "  log_metric(*result_tuple)"
      ],
      "execution_count": null,
      "outputs": []
    },
    {
      "cell_type": "code",
      "metadata": {
        "id": "KqiyF_8_tzjA"
      },
      "source": [
        "log_artifact(model_path)\n",
        "log_artifact(learn.csv_logger.fname)"
      ],
      "execution_count": null,
      "outputs": []
    },
    {
      "cell_type": "code",
      "metadata": {
        "id": "ZFGLo21iuf-w"
      },
      "source": [
        "!git config --global user.email \"nickvonroden@gmail.com\" && \\\n",
        "  git config --global user.name \"Nicolas von Roden\" && \\\n",
        "  cd sports_classification && \\\n",
        "  git add mlruns && \\\n",
        "  git commit -m 'updating mlflow' && git push"
      ],
      "execution_count": null,
      "outputs": []
    },
    {
      "cell_type": "code",
      "metadata": {
        "id": "73wfZC3VC911"
      },
      "source": [
        "!cd sports_classification && git push https://<usr>:<pwd>github.com/<usr>/sports_classification.git --all"
      ],
      "execution_count": null,
      "outputs": []
    },
    {
      "cell_type": "code",
      "metadata": {
        "id": "0lsp1trGDqgh"
      },
      "source": [
        ""
      ],
      "execution_count": null,
      "outputs": []
    }
  ]
}