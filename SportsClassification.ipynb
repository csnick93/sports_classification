{
 "cells": [
  {
   "cell_type": "markdown",
   "metadata": {
    "colab_type": "text",
    "id": "view-in-github"
   },
   "source": [
    "<a href=\"https://colab.research.google.com/github/csnick93/sports_classification/blob/main/SportsClassification.ipynb\" target=\"_parent\"><img src=\"https://colab.research.google.com/assets/colab-badge.svg\" alt=\"Open In Colab\"/></a>"
   ]
  },
  {
   "cell_type": "code",
   "execution_count": null,
   "metadata": {
    "id": "uTydlW6uVNnx"
   },
   "outputs": [],
   "source": [
    "from google.colab import drive\n",
    "drive.mount('/content/drive')"
   ]
  },
  {
   "cell_type": "markdown",
   "metadata": {
    "id": "0fBRTiM_GPVj"
   },
   "source": [
    "# Setup git lfs"
   ]
  },
  {
   "cell_type": "code",
   "execution_count": null,
   "metadata": {
    "id": "Px3VyHKlNQxd"
   },
   "outputs": [],
   "source": [
    "!wget https://github.com/git-lfs/git-lfs/releases/download/v2.12.0/git-lfs-linux-amd64-v2.12.0.tar.gz"
   ]
  },
  {
   "cell_type": "code",
   "execution_count": null,
   "metadata": {
    "id": "sJUQaEKqNqFB"
   },
   "outputs": [],
   "source": [
    "!tar -xvf  git-lfs-linux-amd64-v2.12.0.tar.gz\n"
   ]
  },
  {
   "cell_type": "code",
   "execution_count": null,
   "metadata": {
    "id": "NtmQ7Q5CNtjZ"
   },
   "outputs": [],
   "source": [
    "!./install.sh"
   ]
  },
  {
   "cell_type": "markdown",
   "metadata": {
    "id": "gXBA_pf-GTQo"
   },
   "source": [
    "# Getting the code repo"
   ]
  },
  {
   "cell_type": "code",
   "execution_count": null,
   "metadata": {
    "id": "4b-kHA30NyHn"
   },
   "outputs": [],
   "source": [
    "!git clone https://github.com/csnick93/sports_classification.git"
   ]
  },
  {
   "cell_type": "code",
   "execution_count": null,
   "metadata": {
    "id": "i4GCWRb3f8Ki"
   },
   "outputs": [],
   "source": [
    "!pip install mlflow"
   ]
  },
  {
   "cell_type": "code",
   "execution_count": null,
   "metadata": {
    "id": "znMEZzUZNZhQ"
   },
   "outputs": [],
   "source": [
    "!pip install --upgrade fastai"
   ]
  },
  {
   "cell_type": "markdown",
   "metadata": {
    "id": "afUcB6dJGWYZ"
   },
   "source": [
    "# Adding mlflow functionality"
   ]
  },
  {
   "cell_type": "code",
   "execution_count": null,
   "metadata": {
    "id": "3BjuegJqrLuC"
   },
   "outputs": [],
   "source": [
    "import mlflow\n",
    "from mlflow import log_metric, log_param, log_artifacts,log_artifact"
   ]
  },
  {
   "cell_type": "code",
   "execution_count": null,
   "metadata": {
    "id": "HehPz9hZrNn4"
   },
   "outputs": [],
   "source": [
    "mlflow.set_tracking_uri('sports_classification/mlruns')"
   ]
  },
  {
   "cell_type": "code",
   "execution_count": null,
   "metadata": {
    "id": "k-948PaurosN"
   },
   "outputs": [],
   "source": [
    "def get_max_run_id(experiment_id):\n",
    "    runs = mlflow.search_runs(experiment_ids=[experiment_id]) \n",
    "    run_id = len(runs)\n",
    "    return run_id\n",
    "\n",
    "def connect_to_experiment(experiment_name):\n",
    "    experiment = mlflow.get_experiment_by_name(experiment_name)\n",
    "    if experiment is None:\n",
    "        experiment_id = mlflow.create_experiment(experiment_name)\n",
    "        run_id = 1 \n",
    "    else:\n",
    "        experiment_id = experiment.experiment_id \n",
    "        run_id = get_max_run_id(experiment_id) \n",
    "    return experiment_id, run_id"
   ]
  },
  {
   "cell_type": "markdown",
   "metadata": {
    "id": "XD-Rk7_oGY-E"
   },
   "source": [
    "# Imports"
   ]
  },
  {
   "cell_type": "code",
   "execution_count": null,
   "metadata": {
    "id": "Q2J5lENEJltM"
   },
   "outputs": [],
   "source": [
    "from fastai.vision.all import *\n",
    "from fastai.data.all import *\n",
    "import pandas as pd\n",
    "from tqdm import tqdm"
   ]
  },
  {
   "cell_type": "markdown",
   "metadata": {
    "id": "OgLvDXYNGbFK"
   },
   "source": [
    "# Experiment Configs"
   ]
  },
  {
   "cell_type": "code",
   "execution_count": null,
   "metadata": {
    "id": "0oExjfVpWvIi"
   },
   "outputs": [],
   "source": [
    "#config\n",
    "class Config:\n",
    "  def __init__(self,\n",
    "              augmentations = False,\n",
    "              img_size = 224,  \n",
    "              num_epochs = 5,\n",
    "              model_arch = resnet18):\n",
    "      self.augmentations = augmentations\n",
    "      self.img_size = img_size\n",
    "      self.num_epochs = num_epochs\n",
    "      self.model_arch = model_arch\n",
    "\n",
    "  def __str__(self):\n",
    "    return '%s_%i_%i_%s'%(str(self.augmentations), self.img_size, \n",
    "                          self.num_epochs, str(self.model_arch).split(' ')[1])\n",
    "  \n",
    "  def mlflow_config(self):\n",
    "    return list(self.__dict__.items())\n",
    "  \n",
    "config = Config(augmentations=True, img_size=224, \n",
    "                num_epochs=10, model_arch=resnet34)"
   ]
  },
  {
   "cell_type": "markdown",
   "metadata": {
    "id": "Rg_qFvYhGd4Q"
   },
   "source": [
    "# Get Data and inspect"
   ]
  },
  {
   "cell_type": "code",
   "execution_count": null,
   "metadata": {
    "id": "keeoyyGrLCQm"
   },
   "outputs": [],
   "source": [
    "path = Path('sports_classification/data')\n",
    "train_val_folder = get_image_files(path/\"train\")\n",
    "train_val_data = pd.read_csv(path/'train_val_data.csv')"
   ]
  },
  {
   "cell_type": "code",
   "execution_count": null,
   "metadata": {
    "id": "W7mDwUCxLqoc"
   },
   "outputs": [],
   "source": [
    "train_val_data.head()"
   ]
  },
  {
   "cell_type": "code",
   "execution_count": null,
   "metadata": {
    "id": "lkyb3dLtLr8E"
   },
   "outputs": [],
   "source": [
    "if config.augmentations:\n",
    "  data_block = DataBlock(blocks=(ImageBlock, CategoryBlock),\n",
    "                        splitter=ColSplitter(),\n",
    "                        get_x=ColReader(0, pref='sports_classification/data/'),\n",
    "                        get_y=ColReader(1),\n",
    "                        item_tfms=Resize(config.img_size),\n",
    "                        batch_tfms=aug_transforms()\n",
    "                        )\n",
    "else:\n",
    "  data_block = DataBlock(blocks=(ImageBlock, CategoryBlock),\n",
    "                        splitter=ColSplitter(),\n",
    "                        get_x=ColReader(0, pref='sports_classification/data/'),\n",
    "                        get_y=ColReader(1),\n",
    "                        item_tfms=Resize(config.img_size)\n",
    "                        )"
   ]
  },
  {
   "cell_type": "code",
   "execution_count": null,
   "metadata": {
    "id": "WEVufc3FPI-8"
   },
   "outputs": [],
   "source": [
    "dls = data_block.dataloaders(train_val_data)"
   ]
  },
  {
   "cell_type": "code",
   "execution_count": null,
   "metadata": {
    "id": "__qCm_TBPLpE"
   },
   "outputs": [],
   "source": [
    "dls.show_batch()"
   ]
  },
  {
   "cell_type": "markdown",
   "metadata": {
    "id": "gKnEnk87GgAg"
   },
   "source": [
    "# Start Training"
   ]
  },
  {
   "cell_type": "code",
   "execution_count": null,
   "metadata": {
    "id": "hAUurXn_PcH0"
   },
   "outputs": [],
   "source": [
    "learn = cnn_learner(dls, config.model_arch, metrics=error_rate, \n",
    "                    cbs = [SaveModelCallback(monitor='valid_loss', fname='best_model')])"
   ]
  },
  {
   "cell_type": "code",
   "execution_count": null,
   "metadata": {
    "id": "MiA9FliNPgHN"
   },
   "outputs": [],
   "source": [
    "learn.lr_find()"
   ]
  },
  {
   "cell_type": "code",
   "execution_count": null,
   "metadata": {
    "id": "xnDffUj3PqLl"
   },
   "outputs": [],
   "source": [
    "learn.fine_tune(config.num_epochs, 0.005)"
   ]
  },
  {
   "cell_type": "code",
   "execution_count": null,
   "metadata": {
    "id": "WvErnBWddzjM"
   },
   "outputs": [],
   "source": [
    "learning_results = [('final_train_loss', learn.final_record[0]), \n",
    "                    ('final_val_loss', learn.final_record[1]),\n",
    "                    ('final_error_rate', learn.final_record[2])]"
   ]
  },
  {
   "cell_type": "markdown",
   "metadata": {
    "id": "oqtbxUuhGiqw"
   },
   "source": [
    "# Inspect results"
   ]
  },
  {
   "cell_type": "code",
   "execution_count": null,
   "metadata": {
    "id": "9BqCLZruP4fs"
   },
   "outputs": [],
   "source": [
    "learn.show_results()"
   ]
  },
  {
   "cell_type": "code",
   "execution_count": null,
   "metadata": {
    "id": "bPqndC0TSiBJ"
   },
   "outputs": [],
   "source": [
    "interp = Interpretation.from_learner(learn)"
   ]
  },
  {
   "cell_type": "code",
   "execution_count": null,
   "metadata": {
    "id": "Le_FfDuOSqCF"
   },
   "outputs": [],
   "source": [
    "interp.plot_top_losses(9, figsize=(15,10))\n"
   ]
  },
  {
   "cell_type": "code",
   "execution_count": null,
   "metadata": {
    "id": "nl1VVAKjQQRW"
   },
   "outputs": [],
   "source": [
    "class_interp = ClassificationInterpretation.from_learner(learn)\n",
    "class_interp.plot_confusion_matrix(title='Confusion matrix', figsize=(10,10))"
   ]
  },
  {
   "cell_type": "markdown",
   "metadata": {
    "id": "58R1KhvvL5WM"
   },
   "source": [
    "# Make prediction on test set"
   ]
  },
  {
   "cell_type": "code",
   "execution_count": null,
   "metadata": {
    "id": "_oYafuWvO0ky"
   },
   "outputs": [],
   "source": [
    "test_folder = get_image_files(path/\"test\")"
   ]
  },
  {
   "cell_type": "code",
   "execution_count": null,
   "metadata": {
    "id": "XwTfmCwKNii8"
   },
   "outputs": [],
   "source": [
    "model_path = 'models/' + str(config)+'.pkl'\n",
    "learn.export(fname = model_path)"
   ]
  },
  {
   "cell_type": "code",
   "execution_count": null,
   "metadata": {
    "id": "o_iHO9xtNq26"
   },
   "outputs": [],
   "source": [
    "predictions = {'image': [], 'sports': []}\n",
    "for image in tqdm(test_folder):\n",
    "  pred = learn.predict(image)\n",
    "  predictions['image'].append(str(image).replace('sports_classification/data','.'))\n",
    "  predictions['sports'].append(pred[0])"
   ]
  },
  {
   "cell_type": "code",
   "execution_count": null,
   "metadata": {
    "id": "mIEb145rOFOI"
   },
   "outputs": [],
   "source": [
    "pred_df = pd.DataFrame(predictions)"
   ]
  },
  {
   "cell_type": "code",
   "execution_count": null,
   "metadata": {
    "id": "wdZnFHxJSuLw"
   },
   "outputs": [],
   "source": [
    "test_prediction_file = 'test_evaluation.csv'\n",
    "pred_df.to_csv(test_prediction_file, index=False)"
   ]
  },
  {
   "cell_type": "markdown",
   "metadata": {
    "id": "Wh2D0FXdGmab"
   },
   "source": [
    "# Log the results"
   ]
  },
  {
   "cell_type": "code",
   "execution_count": null,
   "metadata": {
    "id": "d_oyBGbZs532"
   },
   "outputs": [],
   "source": [
    "experiment_id, run_id = connect_to_experiment('sports_classification')\n",
    "mlflow.start_run(run_name='sports_classification_run', experiment_id=experiment_id)"
   ]
  },
  {
   "cell_type": "code",
   "execution_count": null,
   "metadata": {
    "id": "kvl4_k0ftHo4"
   },
   "outputs": [],
   "source": [
    "for config_tuple in config.mlflow_config():\n",
    "  log_param(*config_tuple)"
   ]
  },
  {
   "cell_type": "code",
   "execution_count": null,
   "metadata": {
    "id": "M7hyWQSZth6t"
   },
   "outputs": [],
   "source": [
    "for result_tuple in learning_results:\n",
    "  log_metric(*result_tuple)"
   ]
  },
  {
   "cell_type": "code",
   "execution_count": null,
   "metadata": {
    "id": "KqiyF_8_tzjA"
   },
   "outputs": [],
   "source": [
    "log_artifact(model_path)\n",
    "log_artifact(test_prediction_file)"
   ]
  },
  {
   "cell_type": "code",
   "execution_count": null,
   "metadata": {
    "id": "VyjUCDbQIhmc"
   },
   "outputs": [],
   "source": [
    "mlflow.end_run()"
   ]
  },
  {
   "cell_type": "code",
   "execution_count": null,
   "metadata": {
    "id": "jB-Oi7LAL45P"
   },
   "outputs": [],
   "source": [
    "!cd sports_classification && git pull --no-edit"
   ]
  },
  {
   "cell_type": "code",
   "execution_count": null,
   "metadata": {
    "id": "ZFGLo21iuf-w"
   },
   "outputs": [],
   "source": [
    "!git config --global user.email \"nickvonroden@gmail.com\" && \\\n",
    "  git config --global user.name \"Nicolas von Roden\" && \\\n",
    "  cd sports_classification && \\\n",
    "  git add mlruns && \\\n",
    "  git commit -m 'updating mlflow' && \\\n",
    "  git push https://<usr>:<pwd>@github.com/<usr>/sports_classification.git --all"
   ]
  },
  {
   "cell_type": "code",
   "execution_count": null,
   "metadata": {
    "id": "0lsp1trGDqgh"
   },
   "outputs": [],
   "source": [
    " "
   ]
  },
  {
   "cell_type": "code",
   "execution_count": null,
   "metadata": {
    "id": "JC2zd2R0MNk3"
   },
   "outputs": [],
   "source": []
  }
 ],
 "metadata": {
  "accelerator": "GPU",
  "colab": {
   "authorship_tag": "ABX9TyOz/7Q4hhiqH/IwqX627d4D",
   "collapsed_sections": [],
   "include_colab_link": true,
   "name": "SportsClassification.ipynb",
   "private_outputs": true,
   "provenance": [],
   "toc_visible": true
  },
  "kernelspec": {
   "display_name": "Python 3",
   "language": "python",
   "name": "python3"
  },
  "language_info": {
   "codemirror_mode": {
    "name": "ipython",
    "version": 3
   },
   "file_extension": ".py",
   "mimetype": "text/x-python",
   "name": "python",
   "nbconvert_exporter": "python",
   "pygments_lexer": "ipython3",
   "version": "3.6.9"
  }
 },
 "nbformat": 4,
 "nbformat_minor": 1
}
